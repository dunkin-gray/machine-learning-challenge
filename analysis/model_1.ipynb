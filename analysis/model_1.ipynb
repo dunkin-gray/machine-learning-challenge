{
 "cells": [
  {
   "cell_type": "code",
   "execution_count": 1,
   "source": [
    "# Update sklearn to prevent version mismatches\r\n",
    "!pip install sklearn --upgrade"
   ],
   "outputs": [
    {
     "output_type": "stream",
     "name": "stdout",
     "text": [
      "Requirement already satisfied: sklearn in c:\\users\\gray_\\anaconda3\\envs\\pythonadv\\lib\\site-packages (0.0)\n",
      "Requirement already satisfied: scikit-learn in c:\\users\\gray_\\anaconda3\\envs\\pythonadv\\lib\\site-packages (from sklearn) (0.24.2)\n",
      "Requirement already satisfied: joblib>=0.11 in c:\\users\\gray_\\anaconda3\\envs\\pythonadv\\lib\\site-packages (from scikit-learn->sklearn) (1.0.1)\n",
      "Requirement already satisfied: numpy>=1.13.3 in c:\\users\\gray_\\anaconda3\\envs\\pythonadv\\lib\\site-packages (from scikit-learn->sklearn) (1.19.2)\n",
      "Requirement already satisfied: threadpoolctl>=2.0.0 in c:\\users\\gray_\\anaconda3\\envs\\pythonadv\\lib\\site-packages (from scikit-learn->sklearn) (2.2.0)\n",
      "Requirement already satisfied: scipy>=0.19.1 in c:\\users\\gray_\\anaconda3\\envs\\pythonadv\\lib\\site-packages (from scikit-learn->sklearn) (1.5.2)\n"
     ]
    }
   ],
   "metadata": {}
  },
  {
   "cell_type": "code",
   "execution_count": 2,
   "source": [
    "# install joblib. This will be used to save your model. \r\n",
    "# Restart your kernel after installing \r\n",
    "!pip install joblib"
   ],
   "outputs": [
    {
     "output_type": "stream",
     "name": "stdout",
     "text": [
      "Requirement already satisfied: joblib in c:\\users\\gray_\\anaconda3\\envs\\pythonadv\\lib\\site-packages (1.0.1)\n"
     ]
    }
   ],
   "metadata": {}
  },
  {
   "cell_type": "code",
   "execution_count": 3,
   "source": [
    "import pandas as pd"
   ],
   "outputs": [],
   "metadata": {}
  },
  {
   "cell_type": "markdown",
   "source": [
    "# Read the CSV and Perform Basic Data Cleaning"
   ],
   "metadata": {}
  },
  {
   "cell_type": "code",
   "execution_count": 4,
   "source": [
    "df = pd.read_csv(\"resources/exoplanet_data.csv\")\r\n",
    "# Drop the null columns where all values are null\r\n",
    "df = df.dropna(axis='columns', how='all')\r\n",
    "# Drop the null rows\r\n",
    "df = df.dropna()\r\n",
    "df.head()"
   ],
   "outputs": [
    {
     "output_type": "execute_result",
     "data": {
      "text/plain": [
       "  koi_disposition  koi_fpflag_nt  koi_fpflag_ss  koi_fpflag_co  koi_fpflag_ec  \\\n",
       "0       CONFIRMED              0              0              0              0   \n",
       "1  FALSE POSITIVE              0              1              0              0   \n",
       "2  FALSE POSITIVE              0              1              0              0   \n",
       "3       CONFIRMED              0              0              0              0   \n",
       "4       CONFIRMED              0              0              0              0   \n",
       "\n",
       "   koi_period  koi_period_err1  koi_period_err2  koi_time0bk  \\\n",
       "0   54.418383     2.479000e-04    -2.479000e-04   162.513840   \n",
       "1   19.899140     1.490000e-05    -1.490000e-05   175.850252   \n",
       "2    1.736952     2.630000e-07    -2.630000e-07   170.307565   \n",
       "3    2.525592     3.760000e-06    -3.760000e-06   171.595550   \n",
       "4    4.134435     1.050000e-05    -1.050000e-05   172.979370   \n",
       "\n",
       "   koi_time0bk_err1  ...  koi_steff_err2  koi_slogg  koi_slogg_err1  \\\n",
       "0          0.003520  ...             -81      4.467           0.064   \n",
       "1          0.000581  ...            -176      4.544           0.044   \n",
       "2          0.000115  ...            -174      4.564           0.053   \n",
       "3          0.001130  ...            -211      4.438           0.070   \n",
       "4          0.001900  ...            -232      4.486           0.054   \n",
       "\n",
       "   koi_slogg_err2  koi_srad  koi_srad_err1  koi_srad_err2         ra  \\\n",
       "0          -0.096     0.927          0.105         -0.061  291.93423   \n",
       "1          -0.176     0.868          0.233         -0.078  297.00482   \n",
       "2          -0.168     0.791          0.201         -0.067  285.53461   \n",
       "3          -0.210     1.046          0.334         -0.133  288.75488   \n",
       "4          -0.229     0.972          0.315         -0.105  296.28613   \n",
       "\n",
       "         dec  koi_kepmag  \n",
       "0  48.141651      15.347  \n",
       "1  48.134129      15.436  \n",
       "2  48.285210      15.597  \n",
       "3  48.226200      15.509  \n",
       "4  48.224670      15.714  \n",
       "\n",
       "[5 rows x 41 columns]"
      ],
      "text/html": [
       "<div>\n",
       "<style scoped>\n",
       "    .dataframe tbody tr th:only-of-type {\n",
       "        vertical-align: middle;\n",
       "    }\n",
       "\n",
       "    .dataframe tbody tr th {\n",
       "        vertical-align: top;\n",
       "    }\n",
       "\n",
       "    .dataframe thead th {\n",
       "        text-align: right;\n",
       "    }\n",
       "</style>\n",
       "<table border=\"1\" class=\"dataframe\">\n",
       "  <thead>\n",
       "    <tr style=\"text-align: right;\">\n",
       "      <th></th>\n",
       "      <th>koi_disposition</th>\n",
       "      <th>koi_fpflag_nt</th>\n",
       "      <th>koi_fpflag_ss</th>\n",
       "      <th>koi_fpflag_co</th>\n",
       "      <th>koi_fpflag_ec</th>\n",
       "      <th>koi_period</th>\n",
       "      <th>koi_period_err1</th>\n",
       "      <th>koi_period_err2</th>\n",
       "      <th>koi_time0bk</th>\n",
       "      <th>koi_time0bk_err1</th>\n",
       "      <th>...</th>\n",
       "      <th>koi_steff_err2</th>\n",
       "      <th>koi_slogg</th>\n",
       "      <th>koi_slogg_err1</th>\n",
       "      <th>koi_slogg_err2</th>\n",
       "      <th>koi_srad</th>\n",
       "      <th>koi_srad_err1</th>\n",
       "      <th>koi_srad_err2</th>\n",
       "      <th>ra</th>\n",
       "      <th>dec</th>\n",
       "      <th>koi_kepmag</th>\n",
       "    </tr>\n",
       "  </thead>\n",
       "  <tbody>\n",
       "    <tr>\n",
       "      <th>0</th>\n",
       "      <td>CONFIRMED</td>\n",
       "      <td>0</td>\n",
       "      <td>0</td>\n",
       "      <td>0</td>\n",
       "      <td>0</td>\n",
       "      <td>54.418383</td>\n",
       "      <td>2.479000e-04</td>\n",
       "      <td>-2.479000e-04</td>\n",
       "      <td>162.513840</td>\n",
       "      <td>0.003520</td>\n",
       "      <td>...</td>\n",
       "      <td>-81</td>\n",
       "      <td>4.467</td>\n",
       "      <td>0.064</td>\n",
       "      <td>-0.096</td>\n",
       "      <td>0.927</td>\n",
       "      <td>0.105</td>\n",
       "      <td>-0.061</td>\n",
       "      <td>291.93423</td>\n",
       "      <td>48.141651</td>\n",
       "      <td>15.347</td>\n",
       "    </tr>\n",
       "    <tr>\n",
       "      <th>1</th>\n",
       "      <td>FALSE POSITIVE</td>\n",
       "      <td>0</td>\n",
       "      <td>1</td>\n",
       "      <td>0</td>\n",
       "      <td>0</td>\n",
       "      <td>19.899140</td>\n",
       "      <td>1.490000e-05</td>\n",
       "      <td>-1.490000e-05</td>\n",
       "      <td>175.850252</td>\n",
       "      <td>0.000581</td>\n",
       "      <td>...</td>\n",
       "      <td>-176</td>\n",
       "      <td>4.544</td>\n",
       "      <td>0.044</td>\n",
       "      <td>-0.176</td>\n",
       "      <td>0.868</td>\n",
       "      <td>0.233</td>\n",
       "      <td>-0.078</td>\n",
       "      <td>297.00482</td>\n",
       "      <td>48.134129</td>\n",
       "      <td>15.436</td>\n",
       "    </tr>\n",
       "    <tr>\n",
       "      <th>2</th>\n",
       "      <td>FALSE POSITIVE</td>\n",
       "      <td>0</td>\n",
       "      <td>1</td>\n",
       "      <td>0</td>\n",
       "      <td>0</td>\n",
       "      <td>1.736952</td>\n",
       "      <td>2.630000e-07</td>\n",
       "      <td>-2.630000e-07</td>\n",
       "      <td>170.307565</td>\n",
       "      <td>0.000115</td>\n",
       "      <td>...</td>\n",
       "      <td>-174</td>\n",
       "      <td>4.564</td>\n",
       "      <td>0.053</td>\n",
       "      <td>-0.168</td>\n",
       "      <td>0.791</td>\n",
       "      <td>0.201</td>\n",
       "      <td>-0.067</td>\n",
       "      <td>285.53461</td>\n",
       "      <td>48.285210</td>\n",
       "      <td>15.597</td>\n",
       "    </tr>\n",
       "    <tr>\n",
       "      <th>3</th>\n",
       "      <td>CONFIRMED</td>\n",
       "      <td>0</td>\n",
       "      <td>0</td>\n",
       "      <td>0</td>\n",
       "      <td>0</td>\n",
       "      <td>2.525592</td>\n",
       "      <td>3.760000e-06</td>\n",
       "      <td>-3.760000e-06</td>\n",
       "      <td>171.595550</td>\n",
       "      <td>0.001130</td>\n",
       "      <td>...</td>\n",
       "      <td>-211</td>\n",
       "      <td>4.438</td>\n",
       "      <td>0.070</td>\n",
       "      <td>-0.210</td>\n",
       "      <td>1.046</td>\n",
       "      <td>0.334</td>\n",
       "      <td>-0.133</td>\n",
       "      <td>288.75488</td>\n",
       "      <td>48.226200</td>\n",
       "      <td>15.509</td>\n",
       "    </tr>\n",
       "    <tr>\n",
       "      <th>4</th>\n",
       "      <td>CONFIRMED</td>\n",
       "      <td>0</td>\n",
       "      <td>0</td>\n",
       "      <td>0</td>\n",
       "      <td>0</td>\n",
       "      <td>4.134435</td>\n",
       "      <td>1.050000e-05</td>\n",
       "      <td>-1.050000e-05</td>\n",
       "      <td>172.979370</td>\n",
       "      <td>0.001900</td>\n",
       "      <td>...</td>\n",
       "      <td>-232</td>\n",
       "      <td>4.486</td>\n",
       "      <td>0.054</td>\n",
       "      <td>-0.229</td>\n",
       "      <td>0.972</td>\n",
       "      <td>0.315</td>\n",
       "      <td>-0.105</td>\n",
       "      <td>296.28613</td>\n",
       "      <td>48.224670</td>\n",
       "      <td>15.714</td>\n",
       "    </tr>\n",
       "  </tbody>\n",
       "</table>\n",
       "<p>5 rows × 41 columns</p>\n",
       "</div>"
      ]
     },
     "metadata": {},
     "execution_count": 4
    }
   ],
   "metadata": {}
  },
  {
   "cell_type": "markdown",
   "source": [
    "# Select your features (columns)"
   ],
   "metadata": {}
  },
  {
   "cell_type": "markdown",
   "source": [
    "# Create a Train Test Split\n",
    "\n",
    "Use `koi_disposition` for the y values"
   ],
   "metadata": {}
  },
  {
   "cell_type": "code",
   "execution_count": 5,
   "source": [
    "from sklearn.model_selection import train_test_split\n",
    "from sklearn.linear_model import LinearRegression"
   ],
   "outputs": [],
   "metadata": {}
  },
  {
   "cell_type": "code",
   "execution_count": 6,
   "source": [
    "X = df[['koi_period', 'koi_time0bk']]\n",
    "y = df[[\"koi_disposition\"]]\n",
    "print(X.shape, y.shape)"
   ],
   "outputs": [
    {
     "output_type": "stream",
     "name": "stdout",
     "text": [
      "(6991, 2) (6991, 1)\n"
     ]
    }
   ],
   "metadata": {}
  },
  {
   "cell_type": "code",
   "execution_count": 7,
   "source": [
    "y = df.pop(\"koi_disposition\")\n",
    "X = df\n",
    "print(X.shape, y.shape)"
   ],
   "outputs": [
    {
     "output_type": "stream",
     "name": "stdout",
     "text": [
      "(6991, 40) (6991,)\n"
     ]
    }
   ],
   "metadata": {}
  },
  {
   "cell_type": "code",
   "execution_count": 8,
   "source": [
    "X_train, X_test, y_train, y_test = train_test_split(X, y, random_state=42)"
   ],
   "outputs": [],
   "metadata": {}
  },
  {
   "cell_type": "code",
   "execution_count": 9,
   "source": [
    "X_train.head()"
   ],
   "outputs": [
    {
     "output_type": "execute_result",
     "data": {
      "text/plain": [
       "      koi_fpflag_nt  koi_fpflag_ss  koi_fpflag_co  koi_fpflag_ec  koi_period  \\\n",
       "6122              0              0              0              0    6.768901   \n",
       "6370              0              1              0              1    0.733726   \n",
       "2879              1              0              0              0    7.652707   \n",
       "107               0              0              0              0    7.953547   \n",
       "29                0              0              0              0    4.959319   \n",
       "\n",
       "      koi_period_err1  koi_period_err2  koi_time0bk  koi_time0bk_err1  \\\n",
       "6122     7.380000e-05    -7.380000e-05   133.077240          0.008440   \n",
       "6370     6.060000e-06    -6.060000e-06   132.020050          0.007950   \n",
       "2879     6.540000e-05    -6.540000e-05   134.460380          0.006190   \n",
       "107      1.910000e-05    -1.910000e-05   174.662240          0.001820   \n",
       "29       5.150000e-07    -5.150000e-07   172.258529          0.000083   \n",
       "\n",
       "      koi_time0bk_err2  ...  koi_steff_err2  koi_slogg  koi_slogg_err1  \\\n",
       "6122         -0.008440  ...            -171      4.327           0.153   \n",
       "6370         -0.007950  ...            -175      4.578           0.033   \n",
       "2879         -0.006190  ...            -189      4.481           0.050   \n",
       "107          -0.001820  ...             -85      4.536           0.056   \n",
       "29           -0.000083  ...             -77      4.359           0.110   \n",
       "\n",
       "      koi_slogg_err2  koi_srad  koi_srad_err1  koi_srad_err2         ra  \\\n",
       "6122          -0.187     1.125          0.310         -0.207  294.40472   \n",
       "6370          -0.187     0.797          0.211         -0.056  284.50391   \n",
       "2879          -0.200     0.963          0.290         -0.097  295.50211   \n",
       "107           -0.016     0.779          0.023         -0.049  291.15878   \n",
       "29            -0.110     1.082          0.173         -0.130  292.16705   \n",
       "\n",
       "            dec  koi_kepmag  \n",
       "6122  39.351681      14.725  \n",
       "6370  42.463860      15.770  \n",
       "2879  38.983540      13.099  \n",
       "107   40.750271      15.660  \n",
       "29    48.727589      15.263  \n",
       "\n",
       "[5 rows x 40 columns]"
      ],
      "text/html": [
       "<div>\n",
       "<style scoped>\n",
       "    .dataframe tbody tr th:only-of-type {\n",
       "        vertical-align: middle;\n",
       "    }\n",
       "\n",
       "    .dataframe tbody tr th {\n",
       "        vertical-align: top;\n",
       "    }\n",
       "\n",
       "    .dataframe thead th {\n",
       "        text-align: right;\n",
       "    }\n",
       "</style>\n",
       "<table border=\"1\" class=\"dataframe\">\n",
       "  <thead>\n",
       "    <tr style=\"text-align: right;\">\n",
       "      <th></th>\n",
       "      <th>koi_fpflag_nt</th>\n",
       "      <th>koi_fpflag_ss</th>\n",
       "      <th>koi_fpflag_co</th>\n",
       "      <th>koi_fpflag_ec</th>\n",
       "      <th>koi_period</th>\n",
       "      <th>koi_period_err1</th>\n",
       "      <th>koi_period_err2</th>\n",
       "      <th>koi_time0bk</th>\n",
       "      <th>koi_time0bk_err1</th>\n",
       "      <th>koi_time0bk_err2</th>\n",
       "      <th>...</th>\n",
       "      <th>koi_steff_err2</th>\n",
       "      <th>koi_slogg</th>\n",
       "      <th>koi_slogg_err1</th>\n",
       "      <th>koi_slogg_err2</th>\n",
       "      <th>koi_srad</th>\n",
       "      <th>koi_srad_err1</th>\n",
       "      <th>koi_srad_err2</th>\n",
       "      <th>ra</th>\n",
       "      <th>dec</th>\n",
       "      <th>koi_kepmag</th>\n",
       "    </tr>\n",
       "  </thead>\n",
       "  <tbody>\n",
       "    <tr>\n",
       "      <th>6122</th>\n",
       "      <td>0</td>\n",
       "      <td>0</td>\n",
       "      <td>0</td>\n",
       "      <td>0</td>\n",
       "      <td>6.768901</td>\n",
       "      <td>7.380000e-05</td>\n",
       "      <td>-7.380000e-05</td>\n",
       "      <td>133.077240</td>\n",
       "      <td>0.008440</td>\n",
       "      <td>-0.008440</td>\n",
       "      <td>...</td>\n",
       "      <td>-171</td>\n",
       "      <td>4.327</td>\n",
       "      <td>0.153</td>\n",
       "      <td>-0.187</td>\n",
       "      <td>1.125</td>\n",
       "      <td>0.310</td>\n",
       "      <td>-0.207</td>\n",
       "      <td>294.40472</td>\n",
       "      <td>39.351681</td>\n",
       "      <td>14.725</td>\n",
       "    </tr>\n",
       "    <tr>\n",
       "      <th>6370</th>\n",
       "      <td>0</td>\n",
       "      <td>1</td>\n",
       "      <td>0</td>\n",
       "      <td>1</td>\n",
       "      <td>0.733726</td>\n",
       "      <td>6.060000e-06</td>\n",
       "      <td>-6.060000e-06</td>\n",
       "      <td>132.020050</td>\n",
       "      <td>0.007950</td>\n",
       "      <td>-0.007950</td>\n",
       "      <td>...</td>\n",
       "      <td>-175</td>\n",
       "      <td>4.578</td>\n",
       "      <td>0.033</td>\n",
       "      <td>-0.187</td>\n",
       "      <td>0.797</td>\n",
       "      <td>0.211</td>\n",
       "      <td>-0.056</td>\n",
       "      <td>284.50391</td>\n",
       "      <td>42.463860</td>\n",
       "      <td>15.770</td>\n",
       "    </tr>\n",
       "    <tr>\n",
       "      <th>2879</th>\n",
       "      <td>1</td>\n",
       "      <td>0</td>\n",
       "      <td>0</td>\n",
       "      <td>0</td>\n",
       "      <td>7.652707</td>\n",
       "      <td>6.540000e-05</td>\n",
       "      <td>-6.540000e-05</td>\n",
       "      <td>134.460380</td>\n",
       "      <td>0.006190</td>\n",
       "      <td>-0.006190</td>\n",
       "      <td>...</td>\n",
       "      <td>-189</td>\n",
       "      <td>4.481</td>\n",
       "      <td>0.050</td>\n",
       "      <td>-0.200</td>\n",
       "      <td>0.963</td>\n",
       "      <td>0.290</td>\n",
       "      <td>-0.097</td>\n",
       "      <td>295.50211</td>\n",
       "      <td>38.983540</td>\n",
       "      <td>13.099</td>\n",
       "    </tr>\n",
       "    <tr>\n",
       "      <th>107</th>\n",
       "      <td>0</td>\n",
       "      <td>0</td>\n",
       "      <td>0</td>\n",
       "      <td>0</td>\n",
       "      <td>7.953547</td>\n",
       "      <td>1.910000e-05</td>\n",
       "      <td>-1.910000e-05</td>\n",
       "      <td>174.662240</td>\n",
       "      <td>0.001820</td>\n",
       "      <td>-0.001820</td>\n",
       "      <td>...</td>\n",
       "      <td>-85</td>\n",
       "      <td>4.536</td>\n",
       "      <td>0.056</td>\n",
       "      <td>-0.016</td>\n",
       "      <td>0.779</td>\n",
       "      <td>0.023</td>\n",
       "      <td>-0.049</td>\n",
       "      <td>291.15878</td>\n",
       "      <td>40.750271</td>\n",
       "      <td>15.660</td>\n",
       "    </tr>\n",
       "    <tr>\n",
       "      <th>29</th>\n",
       "      <td>0</td>\n",
       "      <td>0</td>\n",
       "      <td>0</td>\n",
       "      <td>0</td>\n",
       "      <td>4.959319</td>\n",
       "      <td>5.150000e-07</td>\n",
       "      <td>-5.150000e-07</td>\n",
       "      <td>172.258529</td>\n",
       "      <td>0.000083</td>\n",
       "      <td>-0.000083</td>\n",
       "      <td>...</td>\n",
       "      <td>-77</td>\n",
       "      <td>4.359</td>\n",
       "      <td>0.110</td>\n",
       "      <td>-0.110</td>\n",
       "      <td>1.082</td>\n",
       "      <td>0.173</td>\n",
       "      <td>-0.130</td>\n",
       "      <td>292.16705</td>\n",
       "      <td>48.727589</td>\n",
       "      <td>15.263</td>\n",
       "    </tr>\n",
       "  </tbody>\n",
       "</table>\n",
       "<p>5 rows × 40 columns</p>\n",
       "</div>"
      ]
     },
     "metadata": {},
     "execution_count": 9
    }
   ],
   "metadata": {}
  },
  {
   "cell_type": "markdown",
   "source": [
    "# Pre-processing\n",
    "\n",
    "Scale the data using the MinMaxScaler and perform some feature selection"
   ],
   "metadata": {}
  },
  {
   "cell_type": "code",
   "execution_count": 10,
   "source": [
    "# Scale your data"
   ],
   "outputs": [],
   "metadata": {}
  },
  {
   "cell_type": "code",
   "execution_count": 11,
   "source": [
    "from sklearn.preprocessing import MinMaxScaler\n",
    "\n",
    "X_scaler_train = MinMaxScaler().fit_transform(X_train)\n",
    "X_scaler_test = MinMaxScaler().fit_transform(X_test)"
   ],
   "outputs": [],
   "metadata": {}
  },
  {
   "cell_type": "code",
   "execution_count": 12,
   "source": [
    "from sklearn.linear_model import LogisticRegression \n",
    "model = LogisticRegression(max_iter=150000)\n",
    "model"
   ],
   "outputs": [
    {
     "output_type": "execute_result",
     "data": {
      "text/plain": [
       "LogisticRegression(max_iter=150000)"
      ]
     },
     "metadata": {},
     "execution_count": 12
    }
   ],
   "metadata": {}
  },
  {
   "cell_type": "code",
   "execution_count": 13,
   "source": [
    "model.fit(X_scaler_train, y_train)"
   ],
   "outputs": [
    {
     "output_type": "execute_result",
     "data": {
      "text/plain": [
       "LogisticRegression(max_iter=150000)"
      ]
     },
     "metadata": {},
     "execution_count": 13
    }
   ],
   "metadata": {}
  },
  {
   "cell_type": "markdown",
   "source": [
    "# Train the Model\n",
    "\n"
   ],
   "metadata": {}
  },
  {
   "cell_type": "code",
   "execution_count": 14,
   "source": [
    "# Support vector machine linear classifier\n",
    "from sklearn.svm import SVC \n",
    "model = SVC(kernel='linear')\n",
    "model.fit(X_scaler_train, y_train)"
   ],
   "outputs": [
    {
     "output_type": "execute_result",
     "data": {
      "text/plain": [
       "SVC(kernel='linear')"
      ]
     },
     "metadata": {},
     "execution_count": 14
    }
   ],
   "metadata": {}
  },
  {
   "cell_type": "markdown",
   "source": [
    "# Hyperparameter Tuning\n",
    "\n",
    "Use `GridSearchCV` to tune the model's parameters"
   ],
   "metadata": {}
  },
  {
   "cell_type": "code",
   "execution_count": 16,
   "source": [
    "# Create the GridSearchCV model\n",
    "from sklearn.model_selection import GridSearchCV\n",
    "param_grid = {\n",
    "              'C': [1, 5, 10, 50]}\n",
    "#                'gamma': [0.0001, 0.005, 0.001, 0.00, 5]}\n",
    "grid = GridSearchCV(model, param_grid, verbose=3)"
   ],
   "outputs": [],
   "metadata": {}
  },
  {
   "cell_type": "code",
   "execution_count": 17,
   "source": [
    "# Train the model with GridSearch"
   ],
   "outputs": [],
   "metadata": {}
  },
  {
   "cell_type": "code",
   "execution_count": 18,
   "source": [
    "grid.fit(X_scaler_train, y_train)"
   ],
   "outputs": [
    {
     "output_type": "stream",
     "name": "stdout",
     "text": [
      "Fitting 5 folds for each of 4 candidates, totalling 20 fits\n",
      "[CV 1/5] END ...............................C=1;, score=0.858 total time=   0.5s\n",
      "[CV 2/5] END ...............................C=1;, score=0.833 total time=   0.7s\n",
      "[CV 3/5] END ...............................C=1;, score=0.855 total time=   0.5s\n",
      "[CV 4/5] END ...............................C=1;, score=0.832 total time=   0.6s\n",
      "[CV 5/5] END ...............................C=1;, score=0.835 total time=   0.5s\n",
      "[CV 1/5] END ...............................C=5;, score=0.875 total time=   0.5s\n",
      "[CV 2/5] END ...............................C=5;, score=0.851 total time=   0.6s\n",
      "[CV 3/5] END ...............................C=5;, score=0.872 total time=   0.5s\n",
      "[CV 4/5] END ...............................C=5;, score=0.850 total time=   0.5s\n",
      "[CV 5/5] END ...............................C=5;, score=0.861 total time=   0.6s\n",
      "[CV 1/5] END ..............................C=10;, score=0.891 total time=   0.6s\n",
      "[CV 2/5] END ..............................C=10;, score=0.863 total time=   0.6s\n",
      "[CV 3/5] END ..............................C=10;, score=0.882 total time=   0.6s\n",
      "[CV 4/5] END ..............................C=10;, score=0.853 total time=   0.5s\n",
      "[CV 5/5] END ..............................C=10;, score=0.868 total time=   0.7s\n",
      "[CV 1/5] END ..............................C=50;, score=0.896 total time=   1.0s\n",
      "[CV 2/5] END ..............................C=50;, score=0.879 total time=   0.9s\n",
      "[CV 3/5] END ..............................C=50;, score=0.891 total time=   1.0s\n",
      "[CV 4/5] END ..............................C=50;, score=0.872 total time=   0.9s\n",
      "[CV 5/5] END ..............................C=50;, score=0.873 total time=   0.9s\n"
     ]
    },
    {
     "output_type": "execute_result",
     "data": {
      "text/plain": [
       "GridSearchCV(estimator=SVC(kernel='linear'), param_grid={'C': [1, 5, 10, 50]},\n",
       "             verbose=3)"
      ]
     },
     "metadata": {},
     "execution_count": 18
    }
   ],
   "metadata": {}
  },
  {
   "cell_type": "code",
   "execution_count": 20,
   "source": [
    "print(grid.best_params_)\n",
    "print(grid.best_score_)"
   ],
   "outputs": [
    {
     "output_type": "stream",
     "name": "stdout",
     "text": [
      "{'C': 50}\n",
      "0.8823155822702828\n"
     ]
    }
   ],
   "metadata": {
    "scrolled": true
   }
  },
  {
   "cell_type": "markdown",
   "source": [
    "# RBF Classifier"
   ],
   "metadata": {}
  },
  {
   "cell_type": "code",
   "execution_count": 21,
   "source": [
    "model2 = SVC(kernel='rbf')\n",
    "model2.fit(X_scaler_train, y_train)"
   ],
   "outputs": [
    {
     "output_type": "execute_result",
     "data": {
      "text/plain": [
       "SVC()"
      ]
     },
     "metadata": {},
     "execution_count": 21
    }
   ],
   "metadata": {}
  },
  {
   "cell_type": "code",
   "execution_count": 22,
   "source": [
    "print(f\"Training Data Score: {model2.score(X_scaler_train, y_train)}\")\n",
    "print(f\"Testing Data Score: {model2.score(X_scaler_test, y_test)}\")"
   ],
   "outputs": [
    {
     "output_type": "stream",
     "name": "stdout",
     "text": [
      "Training Data Score: 0.831012778943353\n",
      "Testing Data Score: 0.8329519450800915\n"
     ]
    }
   ],
   "metadata": {}
  },
  {
   "cell_type": "code",
   "execution_count": 23,
   "source": [
    "param_grid = {\n",
    "              'C': [1, 5, 10, 50]}\n",
    "grid2 = GridSearchCV(model2, param_grid, verbose=3)"
   ],
   "outputs": [],
   "metadata": {}
  },
  {
   "cell_type": "code",
   "execution_count": 24,
   "source": [
    "grid2.fit(X_scaler_train, y_train)"
   ],
   "outputs": [
    {
     "output_type": "stream",
     "name": "stdout",
     "text": [
      "Fitting 5 folds for each of 4 candidates, totalling 20 fits\n",
      "[CV 1/5] END ...............................C=1;, score=0.837 total time=   1.0s\n",
      "[CV 2/5] END ...............................C=1;, score=0.821 total time=   0.9s\n",
      "[CV 3/5] END ...............................C=1;, score=0.847 total time=   1.0s\n",
      "[CV 4/5] END ...............................C=1;, score=0.811 total time=   0.9s\n",
      "[CV 5/5] END ...............................C=1;, score=0.824 total time=   0.9s\n",
      "[CV 1/5] END ...............................C=5;, score=0.859 total time=   0.9s\n",
      "[CV 2/5] END ...............................C=5;, score=0.840 total time=   1.0s\n",
      "[CV 3/5] END ...............................C=5;, score=0.857 total time=   1.1s\n",
      "[CV 4/5] END ...............................C=5;, score=0.832 total time=   1.0s\n",
      "[CV 5/5] END ...............................C=5;, score=0.844 total time=   1.2s\n",
      "[CV 1/5] END ..............................C=10;, score=0.863 total time=   1.1s\n",
      "[CV 2/5] END ..............................C=10;, score=0.850 total time=   1.0s\n",
      "[CV 3/5] END ..............................C=10;, score=0.865 total time=   1.1s\n",
      "[CV 4/5] END ..............................C=10;, score=0.844 total time=   1.1s\n",
      "[CV 5/5] END ..............................C=10;, score=0.856 total time=   0.9s\n",
      "[CV 1/5] END ..............................C=50;, score=0.892 total time=   0.9s\n",
      "[CV 2/5] END ..............................C=50;, score=0.874 total time=   0.9s\n",
      "[CV 3/5] END ..............................C=50;, score=0.888 total time=   0.8s\n",
      "[CV 4/5] END ..............................C=50;, score=0.854 total time=   0.7s\n",
      "[CV 5/5] END ..............................C=50;, score=0.867 total time=   0.9s\n"
     ]
    },
    {
     "output_type": "execute_result",
     "data": {
      "text/plain": [
       "GridSearchCV(estimator=SVC(), param_grid={'C': [1, 5, 10, 50]}, verbose=3)"
      ]
     },
     "metadata": {},
     "execution_count": 24
    }
   ],
   "metadata": {}
  },
  {
   "cell_type": "code",
   "execution_count": 25,
   "source": [
    "print(grid2.best_params_)\n",
    "print(grid2.best_score_)"
   ],
   "outputs": [
    {
     "output_type": "stream",
     "name": "stdout",
     "text": [
      "{'C': 50}\n",
      "0.8752566966722215\n"
     ]
    }
   ],
   "metadata": {}
  },
  {
   "cell_type": "markdown",
   "source": [
    "# Make Predictions"
   ],
   "metadata": {}
  },
  {
   "cell_type": "markdown",
   "source": [
    "Calculate classification report from sklearn.metrics"
   ],
   "metadata": {}
  },
  {
   "cell_type": "code",
   "execution_count": 26,
   "source": [
    "predictions = grid.predict(X_scaler_test)"
   ],
   "outputs": [],
   "metadata": {}
  },
  {
   "cell_type": "code",
   "execution_count": 27,
   "source": [
    "from sklearn.metrics import classification_report\n",
    "\n",
    "print(classification_report(y_test, predictions, target_names=[\"Candidate\",\"False Positive\",\"Confirmed\"]))"
   ],
   "outputs": [
    {
     "output_type": "stream",
     "name": "stdout",
     "text": [
      "                precision    recall  f1-score   support\n",
      "\n",
      "     Candidate       0.83      0.62      0.71       411\n",
      "False Positive       0.74      0.88      0.80       484\n",
      "     Confirmed       0.98      1.00      0.99       853\n",
      "\n",
      "      accuracy                           0.88      1748\n",
      "     macro avg       0.85      0.83      0.83      1748\n",
      "  weighted avg       0.88      0.88      0.87      1748\n",
      "\n"
     ]
    }
   ],
   "metadata": {}
  },
  {
   "cell_type": "markdown",
   "source": [
    "# Apply KNN Classifier"
   ],
   "metadata": {}
  },
  {
   "cell_type": "code",
   "execution_count": 28,
   "source": [
    "from sklearn.neighbors import KNeighborsClassifier\n",
    "from sklearn import metrics\n",
    "import matplotlib.pyplot as plt"
   ],
   "outputs": [],
   "metadata": {}
  },
  {
   "cell_type": "code",
   "execution_count": 29,
   "source": [
    "# Create empty lists for train_scores and test_scores\n",
    "train_scores = []\n",
    "test_scores = []\n",
    "\n",
    "#Loop through range to get Train/Test and accuracy scores\n",
    "for k in range (1, 30, 2):\n",
    "    knn = KNeighborsClassifier(n_neighbors = k)\n",
    "    knn.fit(X_scaler_train, y_train)\n",
    "    train_score = knn.score(X_scaler_train, y_train)\n",
    "    test_score = knn.score(X_scaler_test, y_test)\n",
    "    train_scores.append(train_score)\n",
    "    test_scores.append(test_score)\n",
    "    pred_y = knn.predict(X_scaler_test)\n",
    "    accuracy = metrics.accuracy_score(y_test, pred_y)\n",
    "    print(f\"k:{k}, Train/Test/Accuracy Score: {train_score:.3f}/{test_score:.3f}/{accuracy:.4f}\")\n",
    "    \n",
    "#Plot Train/Test Scores\n",
    "\n",
    "plt.plot(range(1,30,2), train_scores, marker='o')\n",
    "plt.plot(range(1,30,2), test_scores, marker = 'x')\n",
    "plt.xlabel(\"k neighbors\")\n",
    "plt.ylabel(\"testing accuracy score\")\n",
    "plt.show()"
   ],
   "outputs": [
    {
     "output_type": "stream",
     "name": "stdout",
     "text": [
      "k:1, Train/Test/Accuracy Score: 1.000/0.800/0.7998\n",
      "k:3, Train/Test/Accuracy Score: 0.897/0.814/0.8135\n",
      "k:5, Train/Test/Accuracy Score: 0.878/0.811/0.8112\n",
      "k:7, Train/Test/Accuracy Score: 0.866/0.815/0.8146\n",
      "k:9, Train/Test/Accuracy Score: 0.856/0.819/0.8186\n",
      "k:11, Train/Test/Accuracy Score: 0.848/0.820/0.8198\n",
      "k:13, Train/Test/Accuracy Score: 0.849/0.815/0.8146\n",
      "k:15, Train/Test/Accuracy Score: 0.841/0.820/0.8204\n",
      "k:17, Train/Test/Accuracy Score: 0.838/0.819/0.8186\n",
      "k:19, Train/Test/Accuracy Score: 0.836/0.819/0.8192\n",
      "k:21, Train/Test/Accuracy Score: 0.839/0.819/0.8192\n",
      "k:23, Train/Test/Accuracy Score: 0.840/0.819/0.8186\n",
      "k:25, Train/Test/Accuracy Score: 0.837/0.816/0.8158\n",
      "k:27, Train/Test/Accuracy Score: 0.836/0.818/0.8175\n",
      "k:29, Train/Test/Accuracy Score: 0.835/0.819/0.8192\n"
     ]
    },
    {
     "output_type": "display_data",
     "data": {
      "text/plain": [
       "<Figure size 432x288 with 1 Axes>"
      ],
      "image/png": "[encoded data removed]"
     },
     "metadata": {
      "needs_background": "light"
     }
    }
   ],
   "metadata": {}
  },
  {
   "cell_type": "markdown",
   "source": [
    "# Use Grid Search with Classification Report to determine best value"
   ],
   "metadata": {}
  },
  {
   "cell_type": "code",
   "execution_count": 30,
   "source": [
    "parameters = { 'n_neighbors': range(1, 30, 2) }\n",
    "knn = KNeighborsClassifier()\n",
    "clf = GridSearchCV(knn, parameters, verbose=3)"
   ],
   "outputs": [],
   "metadata": {}
  },
  {
   "cell_type": "code",
   "execution_count": 31,
   "source": [
    "# Fit the model using the grid search estimator. \n",
    "# This takes the SVC model and tries each combination of parameters\n",
    "clf.fit(X_scaler_train, y_train)"
   ],
   "outputs": [
    {
     "output_type": "stream",
     "name": "stdout",
     "text": [
      "Fitting 5 folds for each of 15 candidates, totalling 75 fits\n",
      "[CV 1/5] END .....................n_neighbors=1;, score=0.791 total time=   0.1s\n",
      "[CV 2/5] END .....................n_neighbors=1;, score=0.787 total time=   0.0s\n",
      "[CV 3/5] END .....................n_neighbors=1;, score=0.776 total time=   0.0s\n",
      "[CV 4/5] END .....................n_neighbors=1;, score=0.791 total time=   0.0s\n",
      "[CV 5/5] END .....................n_neighbors=1;, score=0.781 total time=   0.1s\n",
      "[CV 1/5] END .....................n_neighbors=3;, score=0.827 total time=   0.1s\n",
      "[CV 2/5] END .....................n_neighbors=3;, score=0.803 total time=   0.1s\n",
      "[CV 3/5] END .....................n_neighbors=3;, score=0.800 total time=   0.1s\n",
      "[CV 4/5] END .....................n_neighbors=3;, score=0.805 total time=   0.1s\n",
      "[CV 5/5] END .....................n_neighbors=3;, score=0.807 total time=   0.1s\n",
      "[CV 1/5] END .....................n_neighbors=5;, score=0.825 total time=   0.1s\n",
      "[CV 2/5] END .....................n_neighbors=5;, score=0.811 total time=   0.1s\n",
      "[CV 3/5] END .....................n_neighbors=5;, score=0.812 total time=   0.1s\n",
      "[CV 4/5] END .....................n_neighbors=5;, score=0.806 total time=   0.1s\n",
      "[CV 5/5] END .....................n_neighbors=5;, score=0.812 total time=   0.1s\n",
      "[CV 1/5] END .....................n_neighbors=7;, score=0.828 total time=   0.1s\n",
      "[CV 2/5] END .....................n_neighbors=7;, score=0.807 total time=   0.2s\n",
      "[CV 3/5] END .....................n_neighbors=7;, score=0.810 total time=   0.2s\n",
      "[CV 4/5] END .....................n_neighbors=7;, score=0.807 total time=   0.1s\n",
      "[CV 5/5] END .....................n_neighbors=7;, score=0.809 total time=   0.2s\n",
      "[CV 1/5] END .....................n_neighbors=9;, score=0.833 total time=   0.2s\n",
      "[CV 2/5] END .....................n_neighbors=9;, score=0.816 total time=   0.2s\n",
      "[CV 3/5] END .....................n_neighbors=9;, score=0.807 total time=   0.2s\n",
      "[CV 4/5] END .....................n_neighbors=9;, score=0.800 total time=   0.2s\n",
      "[CV 5/5] END .....................n_neighbors=9;, score=0.823 total time=   0.1s\n",
      "[CV 1/5] END ....................n_neighbors=11;, score=0.824 total time=   0.2s\n",
      "[CV 2/5] END ....................n_neighbors=11;, score=0.819 total time=   0.2s\n",
      "[CV 3/5] END ....................n_neighbors=11;, score=0.819 total time=   0.2s\n",
      "[CV 4/5] END ....................n_neighbors=11;, score=0.793 total time=   0.1s\n",
      "[CV 5/5] END ....................n_neighbors=11;, score=0.816 total time=   0.1s\n",
      "[CV 1/5] END ....................n_neighbors=13;, score=0.835 total time=   0.2s\n",
      "[CV 2/5] END ....................n_neighbors=13;, score=0.815 total time=   0.2s\n",
      "[CV 3/5] END ....................n_neighbors=13;, score=0.821 total time=   0.2s\n",
      "[CV 4/5] END ....................n_neighbors=13;, score=0.801 total time=   0.1s\n",
      "[CV 5/5] END ....................n_neighbors=13;, score=0.812 total time=   0.1s\n",
      "[CV 1/5] END ....................n_neighbors=15;, score=0.832 total time=   0.2s\n",
      "[CV 2/5] END ....................n_neighbors=15;, score=0.811 total time=   0.2s\n",
      "[CV 3/5] END ....................n_neighbors=15;, score=0.831 total time=   0.2s\n",
      "[CV 4/5] END ....................n_neighbors=15;, score=0.808 total time=   0.1s\n",
      "[CV 5/5] END ....................n_neighbors=15;, score=0.813 total time=   0.2s\n",
      "[CV 1/5] END ....................n_neighbors=17;, score=0.838 total time=   0.2s\n",
      "[CV 2/5] END ....................n_neighbors=17;, score=0.811 total time=   0.1s\n",
      "[CV 3/5] END ....................n_neighbors=17;, score=0.830 total time=   0.2s\n",
      "[CV 4/5] END ....................n_neighbors=17;, score=0.803 total time=   0.2s\n",
      "[CV 5/5] END ....................n_neighbors=17;, score=0.813 total time=   0.1s\n",
      "[CV 1/5] END ....................n_neighbors=19;, score=0.834 total time=   0.2s\n",
      "[CV 2/5] END ....................n_neighbors=19;, score=0.810 total time=   0.1s\n",
      "[CV 3/5] END ....................n_neighbors=19;, score=0.837 total time=   0.1s\n",
      "[CV 4/5] END ....................n_neighbors=19;, score=0.805 total time=   0.1s\n",
      "[CV 5/5] END ....................n_neighbors=19;, score=0.820 total time=   0.1s\n",
      "[CV 1/5] END ....................n_neighbors=21;, score=0.829 total time=   0.1s\n",
      "[CV 2/5] END ....................n_neighbors=21;, score=0.812 total time=   0.1s\n",
      "[CV 3/5] END ....................n_neighbors=21;, score=0.838 total time=   0.1s\n",
      "[CV 4/5] END ....................n_neighbors=21;, score=0.810 total time=   0.1s\n",
      "[CV 5/5] END ....................n_neighbors=21;, score=0.822 total time=   0.1s\n",
      "[CV 1/5] END ....................n_neighbors=23;, score=0.830 total time=   0.1s\n",
      "[CV 2/5] END ....................n_neighbors=23;, score=0.811 total time=   0.1s\n",
      "[CV 3/5] END ....................n_neighbors=23;, score=0.833 total time=   0.1s\n",
      "[CV 4/5] END ....................n_neighbors=23;, score=0.810 total time=   0.1s\n",
      "[CV 5/5] END ....................n_neighbors=23;, score=0.818 total time=   0.1s\n",
      "[CV 1/5] END ....................n_neighbors=25;, score=0.832 total time=   0.1s\n",
      "[CV 2/5] END ....................n_neighbors=25;, score=0.817 total time=   0.1s\n",
      "[CV 3/5] END ....................n_neighbors=25;, score=0.836 total time=   0.2s\n",
      "[CV 4/5] END ....................n_neighbors=25;, score=0.803 total time=   0.2s\n",
      "[CV 5/5] END ....................n_neighbors=25;, score=0.818 total time=   0.1s\n",
      "[CV 1/5] END ....................n_neighbors=27;, score=0.828 total time=   0.2s\n",
      "[CV 2/5] END ....................n_neighbors=27;, score=0.821 total time=   0.2s\n",
      "[CV 3/5] END ....................n_neighbors=27;, score=0.834 total time=   0.2s\n",
      "[CV 4/5] END ....................n_neighbors=27;, score=0.800 total time=   0.1s\n",
      "[CV 5/5] END ....................n_neighbors=27;, score=0.822 total time=   0.1s\n",
      "[CV 1/5] END ....................n_neighbors=29;, score=0.827 total time=   0.2s\n",
      "[CV 2/5] END ....................n_neighbors=29;, score=0.820 total time=   0.2s\n",
      "[CV 3/5] END ....................n_neighbors=29;, score=0.833 total time=   0.2s\n",
      "[CV 4/5] END ....................n_neighbors=29;, score=0.803 total time=   0.2s\n",
      "[CV 5/5] END ....................n_neighbors=29;, score=0.818 total time=   0.1s\n"
     ]
    },
    {
     "output_type": "execute_result",
     "data": {
      "text/plain": [
       "GridSearchCV(estimator=KNeighborsClassifier(),\n",
       "             param_grid={'n_neighbors': range(1, 30, 2)}, verbose=3)"
      ]
     },
     "metadata": {},
     "execution_count": 31
    }
   ],
   "metadata": {}
  },
  {
   "cell_type": "code",
   "execution_count": 32,
   "source": [
    "print(clf.best_params_)"
   ],
   "outputs": [
    {
     "output_type": "stream",
     "name": "stdout",
     "text": [
      "{'n_neighbors': 21}\n"
     ]
    }
   ],
   "metadata": {}
  },
  {
   "cell_type": "code",
   "execution_count": 33,
   "source": [
    "print(clf.best_score_)"
   ],
   "outputs": [
    {
     "output_type": "stream",
     "name": "stdout",
     "text": [
      "0.8222367358225574\n"
     ]
    }
   ],
   "metadata": {}
  },
  {
   "cell_type": "markdown",
   "source": [
    "# Save the Model"
   ],
   "metadata": {}
  },
  {
   "cell_type": "code",
   "execution_count": 34,
   "source": [
    "# save your model by updating \"your_name\" with your name\n",
    "# and \"your_model\" with your model variable\n",
    "# be sure to turn this in to BCS\n",
    "# if joblib fails to import, try running the command to install in terminal/git-bash\n",
    "import joblib\n",
    "filename = 'dunkingray.h5'\n",
    "joblib.dump(model, filename)"
   ],
   "outputs": [
    {
     "output_type": "execute_result",
     "data": {
      "text/plain": [
       "['dunkingray.h5']"
      ]
     },
     "metadata": {},
     "execution_count": 34
    }
   ],
   "metadata": {}
  },
  {
   "cell_type": "markdown",
   "source": [
    "# Load the Model"
   ],
   "metadata": {}
  },
  {
   "cell_type": "code",
   "execution_count": 36,
   "source": [
    "exoplanet_model = joblib.load('dunkingray.h5')\n",
    "exoplanet_model"
   ],
   "outputs": [
    {
     "output_type": "execute_result",
     "data": {
      "text/plain": [
       "SVC(kernel='linear')"
      ]
     },
     "metadata": {},
     "execution_count": 36
    }
   ],
   "metadata": {}
  },
  {
   "cell_type": "code",
   "execution_count": null,
   "source": [],
   "outputs": [],
   "metadata": {}
  }
 ],
 "metadata": {
  "kernel_info": {
   "name": "dev"
  },
  "kernelspec": {
   "display_name": "Python [conda env:PythonAdv]",
   "language": "python",
   "name": "conda-env-PythonAdv-py"
  },
  "language_info": {
   "codemirror_mode": {
    "name": "ipython",
    "version": 3
   },
   "file_extension": ".py",
   "mimetype": "text/x-python",
   "name": "python",
   "nbconvert_exporter": "python",
   "pygments_lexer": "ipython3",
   "version": "3.6.13"
  },
  "nteract": {
   "version": "0.12.3"
  }
 },
 "nbformat": 4,
 "nbformat_minor": 2
}